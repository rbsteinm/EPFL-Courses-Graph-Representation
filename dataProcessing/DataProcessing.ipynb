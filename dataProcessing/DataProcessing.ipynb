{
 "cells": [
  {
   "cell_type": "code",
   "execution_count": 93,
   "metadata": {},
   "outputs": [],
   "source": [
    "import pandas as pd\n",
    "import numpy as np\n",
    "ONLY_2016 = True"
   ]
  },
  {
   "cell_type": "code",
   "execution_count": 94,
   "metadata": {},
   "outputs": [
    {
     "data": {
      "text/html": [
       "<div>\n",
       "<style scoped>\n",
       "    .dataframe tbody tr th:only-of-type {\n",
       "        vertical-align: middle;\n",
       "    }\n",
       "\n",
       "    .dataframe tbody tr th {\n",
       "        vertical-align: top;\n",
       "    }\n",
       "\n",
       "    .dataframe thead th {\n",
       "        text-align: right;\n",
       "    }\n",
       "</style>\n",
       "<table border=\"1\" class=\"dataframe\">\n",
       "  <thead>\n",
       "    <tr style=\"text-align: right;\">\n",
       "      <th></th>\n",
       "      <th>Unnamed: 0</th>\n",
       "      <th>SubjectName</th>\n",
       "      <th>SubjectID</th>\n",
       "      <th>SectionName</th>\n",
       "      <th>CourseCode</th>\n",
       "      <th>YearName</th>\n",
       "    </tr>\n",
       "  </thead>\n",
       "  <tbody>\n",
       "    <tr>\n",
       "      <th>0</th>\n",
       "      <td>0</td>\n",
       "      <td>Histoire de l'architecture I</td>\n",
       "      <td>1773962</td>\n",
       "      <td>Architecture</td>\n",
       "      <td>AR-123</td>\n",
       "      <td>2015-2016</td>\n",
       "    </tr>\n",
       "    <tr>\n",
       "      <th>1</th>\n",
       "      <td>1</td>\n",
       "      <td>Stéréotomie</td>\n",
       "      <td>1769400055</td>\n",
       "      <td>Architecture</td>\n",
       "      <td>AR-211</td>\n",
       "      <td>2015-2016</td>\n",
       "    </tr>\n",
       "    <tr>\n",
       "      <th>2</th>\n",
       "      <td>2</td>\n",
       "      <td>Introduction aux outils CAO en architecture</td>\n",
       "      <td>1888400347</td>\n",
       "      <td>Architecture</td>\n",
       "      <td>AR-219</td>\n",
       "      <td>2015-2016</td>\n",
       "    </tr>\n",
       "    <tr>\n",
       "      <th>3</th>\n",
       "      <td>3</td>\n",
       "      <td>Théorie de l'architecture III</td>\n",
       "      <td>1776787</td>\n",
       "      <td>Architecture</td>\n",
       "      <td>AR-221</td>\n",
       "      <td>2015-2016</td>\n",
       "    </tr>\n",
       "    <tr>\n",
       "      <th>4</th>\n",
       "      <td>4</td>\n",
       "      <td>Histoire de l'architecture III</td>\n",
       "      <td>1773972</td>\n",
       "      <td>Architecture</td>\n",
       "      <td>AR-223</td>\n",
       "      <td>2015-2016</td>\n",
       "    </tr>\n",
       "  </tbody>\n",
       "</table>\n",
       "</div>"
      ],
      "text/plain": [
       "   Unnamed: 0                                  SubjectName   SubjectID  \\\n",
       "0           0                 Histoire de l'architecture I     1773962   \n",
       "1           1                                  Stéréotomie  1769400055   \n",
       "2           2  Introduction aux outils CAO en architecture  1888400347   \n",
       "3           3                Théorie de l'architecture III     1776787   \n",
       "4           4               Histoire de l'architecture III     1773972   \n",
       "\n",
       "    SectionName CourseCode   YearName  \n",
       "0  Architecture     AR-123  2015-2016  \n",
       "1  Architecture     AR-211  2015-2016  \n",
       "2  Architecture     AR-219  2015-2016  \n",
       "3  Architecture     AR-221  2015-2016  \n",
       "4  Architecture     AR-223  2015-2016  "
      ]
     },
     "execution_count": 94,
     "metadata": {},
     "output_type": "execute_result"
    }
   ],
   "source": [
    "isa_courses_2016 = pd.read_csv('./data/ISA_romain/raph_coursecode_matching.csv')\n",
    "isa_courses_2016.head()"
   ]
  },
  {
   "cell_type": "markdown",
   "metadata": {},
   "source": [
    "Let's use the data from ISA to filter Kshitij's data and keep only the courses from 2015-2016, as we're not interested in old courses:"
   ]
  },
  {
   "cell_type": "code",
   "execution_count": 95,
   "metadata": {},
   "outputs": [
    {
     "data": {
      "text/html": [
       "<div>\n",
       "<style scoped>\n",
       "    .dataframe tbody tr th:only-of-type {\n",
       "        vertical-align: middle;\n",
       "    }\n",
       "\n",
       "    .dataframe tbody tr th {\n",
       "        vertical-align: top;\n",
       "    }\n",
       "\n",
       "    .dataframe thead th {\n",
       "        text-align: right;\n",
       "    }\n",
       "</style>\n",
       "<table border=\"1\" class=\"dataframe\">\n",
       "  <thead>\n",
       "    <tr style=\"text-align: right;\">\n",
       "      <th></th>\n",
       "      <th>Code</th>\n",
       "      <th>Title</th>\n",
       "    </tr>\n",
       "  </thead>\n",
       "  <tbody>\n",
       "    <tr>\n",
       "      <th>0</th>\n",
       "      <td>AR-101</td>\n",
       "      <td>Studio BA1</td>\n",
       "    </tr>\n",
       "    <tr>\n",
       "      <th>1</th>\n",
       "      <td>AR-101</td>\n",
       "      <td>Théorie et critique du projet BA1</td>\n",
       "    </tr>\n",
       "    <tr>\n",
       "      <th>2</th>\n",
       "      <td>AR-102</td>\n",
       "      <td>Studio BA2</td>\n",
       "    </tr>\n",
       "    <tr>\n",
       "      <th>3</th>\n",
       "      <td>AR-102</td>\n",
       "      <td>Théorie et critique du projet BA2</td>\n",
       "    </tr>\n",
       "    <tr>\n",
       "      <th>4</th>\n",
       "      <td>AR-111</td>\n",
       "      <td>Figuration graphique I</td>\n",
       "    </tr>\n",
       "  </tbody>\n",
       "</table>\n",
       "</div>"
      ],
      "text/plain": [
       "     Code                              Title\n",
       "0  AR-101                         Studio BA1\n",
       "1  AR-101  Théorie et critique du projet BA1\n",
       "2  AR-102                         Studio BA2\n",
       "3  AR-102  Théorie et critique du projet BA2\n",
       "4  AR-111             Figuration graphique I"
      ]
     },
     "execution_count": 95,
     "metadata": {},
     "output_type": "execute_result"
    }
   ],
   "source": [
    "# Note that this contains each course twice, once in english and once in french\n",
    "max_courses_full = pd.read_csv('./data/Max/courses.csv')[['Code', 'Title']]\n",
    "max_courses_full.head()"
   ]
  },
  {
   "cell_type": "code",
   "execution_count": 96,
   "metadata": {},
   "outputs": [
    {
     "data": {
      "text/html": [
       "<div>\n",
       "<style scoped>\n",
       "    .dataframe tbody tr th:only-of-type {\n",
       "        vertical-align: middle;\n",
       "    }\n",
       "\n",
       "    .dataframe tbody tr th {\n",
       "        vertical-align: top;\n",
       "    }\n",
       "\n",
       "    .dataframe thead th {\n",
       "        text-align: right;\n",
       "    }\n",
       "</style>\n",
       "<table border=\"1\" class=\"dataframe\">\n",
       "  <thead>\n",
       "    <tr style=\"text-align: right;\">\n",
       "      <th></th>\n",
       "      <th>Source</th>\n",
       "      <th>Target</th>\n",
       "    </tr>\n",
       "  </thead>\n",
       "  <tbody>\n",
       "    <tr>\n",
       "      <th>0</th>\n",
       "      <td>AR-112</td>\n",
       "      <td>AR-111</td>\n",
       "    </tr>\n",
       "    <tr>\n",
       "      <th>1</th>\n",
       "      <td>AR-211</td>\n",
       "      <td>MATH-121</td>\n",
       "    </tr>\n",
       "    <tr>\n",
       "      <th>2</th>\n",
       "      <td>AR-219</td>\n",
       "      <td>MATH-126</td>\n",
       "    </tr>\n",
       "    <tr>\n",
       "      <th>3</th>\n",
       "      <td>AR-231</td>\n",
       "      <td>CIVIL-122</td>\n",
       "    </tr>\n",
       "    <tr>\n",
       "      <th>4</th>\n",
       "      <td>AR-239</td>\n",
       "      <td>CIVIL-122</td>\n",
       "    </tr>\n",
       "  </tbody>\n",
       "</table>\n",
       "</div>"
      ],
      "text/plain": [
       "   Source     Target\n",
       "0  AR-112     AR-111\n",
       "1  AR-211   MATH-121\n",
       "2  AR-219   MATH-126\n",
       "3  AR-231  CIVIL-122\n",
       "4  AR-239  CIVIL-122"
      ]
     },
     "execution_count": 96,
     "metadata": {},
     "output_type": "execute_result"
    }
   ],
   "source": [
    "# Baseline edges scraped by Max\n",
    "baseline_edges = pd.read_csv('./data/Max/edges/pre_obl.csv')[['Source', 'Target']]\n",
    "baseline_edges.head()"
   ]
  },
  {
   "cell_type": "markdown",
   "metadata": {},
   "source": [
    "# Match Max's data with Kshitij's data\n",
    "\n",
    "The problem here is that Max's data was scraped from the web, and thus the courses do not have a subject ID. Also, the data was scraped in 2017, but the data from ISA that Kshitij used only goes until 2016.\n",
    "Therefore, the goal is to match the data by course code and/or course name as best as possible, considering that course codes/names can change over the years. Since this might create inconsistencies, I decided to process as follow: \n",
    "- The baseline (Max's scraped data) should stay true no matter what\n",
    "- Add as much edges from Kshitij's data as you can. It's fine if some are missing\n",
    "- It's okay if Kshitij's data has mistakes/inconsistencies, but try to avoid them as much as possible\n",
    "\n",
    "### Data Exploration: Kshitij's data"
   ]
  },
  {
   "cell_type": "code",
   "execution_count": 97,
   "metadata": {},
   "outputs": [
    {
     "data": {
      "text/html": [
       "<div>\n",
       "<style scoped>\n",
       "    .dataframe tbody tr th:only-of-type {\n",
       "        vertical-align: middle;\n",
       "    }\n",
       "\n",
       "    .dataframe tbody tr th {\n",
       "        vertical-align: top;\n",
       "    }\n",
       "\n",
       "    .dataframe thead th {\n",
       "        text-align: right;\n",
       "    }\n",
       "</style>\n",
       "<table border=\"1\" class=\"dataframe\">\n",
       "  <thead>\n",
       "    <tr style=\"text-align: right;\">\n",
       "      <th></th>\n",
       "      <th>SubjectID</th>\n",
       "      <th>SubjectName</th>\n",
       "      <th>AssociatedCourseCodes</th>\n",
       "    </tr>\n",
       "  </thead>\n",
       "  <tbody>\n",
       "    <tr>\n",
       "      <th>0</th>\n",
       "      <td>1179233</td>\n",
       "      <td>Analyse I, II (allemand)</td>\n",
       "      <td>NaN</td>\n",
       "    </tr>\n",
       "    <tr>\n",
       "      <th>1</th>\n",
       "      <td>1179240</td>\n",
       "      <td>Algèbre linéaire I</td>\n",
       "      <td>MATH-110; MATH-110(b); MATH-112; MATH-112(a); ...</td>\n",
       "    </tr>\n",
       "    <tr>\n",
       "      <th>2</th>\n",
       "      <td>1179245</td>\n",
       "      <td>Analyse numérique</td>\n",
       "      <td>MATH-150; MATH-250; MATH-251(a); MATH-251(b); ...</td>\n",
       "    </tr>\n",
       "    <tr>\n",
       "      <th>3</th>\n",
       "      <td>1179253</td>\n",
       "      <td>Plan BA/MA</td>\n",
       "      <td>NaN</td>\n",
       "    </tr>\n",
       "    <tr>\n",
       "      <th>4</th>\n",
       "      <td>1186202</td>\n",
       "      <td>Algèbre linéaire II</td>\n",
       "      <td>MATH-115; MATH-117; MATH-117(a); MATH-117(b)</td>\n",
       "    </tr>\n",
       "  </tbody>\n",
       "</table>\n",
       "</div>"
      ],
      "text/plain": [
       "   SubjectID               SubjectName  \\\n",
       "0    1179233  Analyse I, II (allemand)   \n",
       "1    1179240        Algèbre linéaire I   \n",
       "2    1179245         Analyse numérique   \n",
       "3    1179253                Plan BA/MA   \n",
       "4    1186202       Algèbre linéaire II   \n",
       "\n",
       "                               AssociatedCourseCodes  \n",
       "0                                                NaN  \n",
       "1  MATH-110; MATH-110(b); MATH-112; MATH-112(a); ...  \n",
       "2  MATH-150; MATH-250; MATH-251(a); MATH-251(b); ...  \n",
       "3                                                NaN  \n",
       "4       MATH-115; MATH-117; MATH-117(a); MATH-117(b)  "
      ]
     },
     "execution_count": 97,
     "metadata": {},
     "output_type": "execute_result"
    }
   ],
   "source": [
    "courses_ksh = pd.read_csv('./data/Kshitij_new/isa-subject-id-name-code-hash.csv')\n",
    "courses_ksh.head()"
   ]
  },
  {
   "cell_type": "code",
   "execution_count": 98,
   "metadata": {},
   "outputs": [
    {
     "name": "stdout",
     "output_type": "stream",
     "text": [
      "There are 3278/6365 courses with no codes\n"
     ]
    }
   ],
   "source": [
    "print(\"There are \" + str(courses_ksh.AssociatedCourseCodes.isnull().sum()) + \"/\" + str(len(courses_ksh)) + \" courses with no codes\")"
   ]
  },
  {
   "cell_type": "code",
   "execution_count": 99,
   "metadata": {},
   "outputs": [
    {
     "data": {
      "text/html": [
       "<div>\n",
       "<style scoped>\n",
       "    .dataframe tbody tr th:only-of-type {\n",
       "        vertical-align: middle;\n",
       "    }\n",
       "\n",
       "    .dataframe tbody tr th {\n",
       "        vertical-align: top;\n",
       "    }\n",
       "\n",
       "    .dataframe thead th {\n",
       "        text-align: right;\n",
       "    }\n",
       "</style>\n",
       "<table border=\"1\" class=\"dataframe\">\n",
       "  <thead>\n",
       "    <tr style=\"text-align: right;\">\n",
       "      <th></th>\n",
       "      <th>sub1</th>\n",
       "      <th>sub2</th>\n",
       "      <th>cor1</th>\n",
       "      <th>pval1</th>\n",
       "      <th>cor2</th>\n",
       "      <th>pval2</th>\n",
       "      <th>sameSemester</th>\n",
       "    </tr>\n",
       "  </thead>\n",
       "  <tbody>\n",
       "    <tr>\n",
       "      <th>0</th>\n",
       "      <td>1179240</td>\n",
       "      <td>1179245</td>\n",
       "      <td>0.479456</td>\n",
       "      <td>1.053786e-71</td>\n",
       "      <td>0.578663</td>\n",
       "      <td>1.057758e-13</td>\n",
       "      <td>0</td>\n",
       "    </tr>\n",
       "    <tr>\n",
       "      <th>1</th>\n",
       "      <td>1179240</td>\n",
       "      <td>1186202</td>\n",
       "      <td>0.638191</td>\n",
       "      <td>2.904612e-168</td>\n",
       "      <td>0.562914</td>\n",
       "      <td>1.925217e-17</td>\n",
       "      <td>2</td>\n",
       "    </tr>\n",
       "    <tr>\n",
       "      <th>2</th>\n",
       "      <td>1179240</td>\n",
       "      <td>1705532</td>\n",
       "      <td>0.491199</td>\n",
       "      <td>3.313850e-08</td>\n",
       "      <td>0.534409</td>\n",
       "      <td>7.964026e-13</td>\n",
       "      <td>594</td>\n",
       "    </tr>\n",
       "    <tr>\n",
       "      <th>3</th>\n",
       "      <td>1179240</td>\n",
       "      <td>1705538</td>\n",
       "      <td>0.601198</td>\n",
       "      <td>1.168207e-63</td>\n",
       "      <td>0.611785</td>\n",
       "      <td>6.559217e-15</td>\n",
       "      <td>0</td>\n",
       "    </tr>\n",
       "    <tr>\n",
       "      <th>4</th>\n",
       "      <td>1179240</td>\n",
       "      <td>1705590</td>\n",
       "      <td>0.488534</td>\n",
       "      <td>1.368027e-23</td>\n",
       "      <td>0.444710</td>\n",
       "      <td>6.189562e-12</td>\n",
       "      <td>1186</td>\n",
       "    </tr>\n",
       "  </tbody>\n",
       "</table>\n",
       "</div>"
      ],
      "text/plain": [
       "      sub1     sub2      cor1          pval1      cor2         pval2  \\\n",
       "0  1179240  1179245  0.479456   1.053786e-71  0.578663  1.057758e-13   \n",
       "1  1179240  1186202  0.638191  2.904612e-168  0.562914  1.925217e-17   \n",
       "2  1179240  1705532  0.491199   3.313850e-08  0.534409  7.964026e-13   \n",
       "3  1179240  1705538  0.601198   1.168207e-63  0.611785  6.559217e-15   \n",
       "4  1179240  1705590  0.488534   1.368027e-23  0.444710  6.189562e-12   \n",
       "\n",
       "   sameSemester  \n",
       "0             0  \n",
       "1             2  \n",
       "2           594  \n",
       "3             0  \n",
       "4          1186  "
      ]
     },
     "execution_count": 99,
     "metadata": {},
     "output_type": "execute_result"
    }
   ],
   "source": [
    "grades_cor = pd.read_csv('./data/Kshitij_new/correlation-subject-pair.csv')[['sub1', 'sub2', 'cor1', 'pval1', 'cor2', 'pval2', 'sameSemester']]\n",
    "grades_cor.head()"
   ]
  },
  {
   "cell_type": "code",
   "execution_count": 100,
   "metadata": {},
   "outputs": [
    {
     "name": "stdout",
     "output_type": "stream",
     "text": [
      "3087\n",
      "We would drop 0/5828 edges if we drop all courses with no codes\n"
     ]
    }
   ],
   "source": [
    "# Let's see how many edges we would have to drop if we drop all courses with no courseCode\n",
    "courses_ksh_no_null = set(courses_ksh.dropna(subset=['AssociatedCourseCodes']).SubjectID.values)\n",
    "#courses_ksh_no_null = courses_ksh[pd.notnull(courses_ksh['AssociatedCourseCodes'])]\n",
    "print(len(courses_ksh_no_null))\n",
    "n_drops_edges = 0\n",
    "for row in grades_cor.values:\n",
    "    if row[0] not in courses_ksh_no_null or row[1] not in courses_ksh_no_null:\n",
    "        n_drops_edges += 1\n",
    "print(\"We would drop \" + str(n_drops_edges) + \"/\" + str(len(grades_cor)) + \" edges if we drop all courses with no codes\")"
   ]
  },
  {
   "cell_type": "markdown",
   "metadata": {},
   "source": [
    "It seems there is no edge from/to courses that have no course code. Thus, we can discard all the courses that have no code. \\o/"
   ]
  },
  {
   "cell_type": "code",
   "execution_count": 101,
   "metadata": {},
   "outputs": [],
   "source": [
    "# Drop the data with no course code\n",
    "courses_ksh.dropna(subset=['AssociatedCourseCodes'], inplace=True)"
   ]
  },
  {
   "cell_type": "markdown",
   "metadata": {},
   "source": [
    "### Filter Kshitij's courses to keep only those from 2016"
   ]
  },
  {
   "cell_type": "code",
   "execution_count": 102,
   "metadata": {},
   "outputs": [
    {
     "data": {
      "text/html": [
       "<div>\n",
       "<style scoped>\n",
       "    .dataframe tbody tr th:only-of-type {\n",
       "        vertical-align: middle;\n",
       "    }\n",
       "\n",
       "    .dataframe tbody tr th {\n",
       "        vertical-align: top;\n",
       "    }\n",
       "\n",
       "    .dataframe thead th {\n",
       "        text-align: right;\n",
       "    }\n",
       "</style>\n",
       "<table border=\"1\" class=\"dataframe\">\n",
       "  <thead>\n",
       "    <tr style=\"text-align: right;\">\n",
       "      <th></th>\n",
       "      <th>SubjectID</th>\n",
       "      <th>SubjectName</th>\n",
       "      <th>AssociatedCourseCodes</th>\n",
       "    </tr>\n",
       "  </thead>\n",
       "  <tbody>\n",
       "    <tr>\n",
       "      <th>2</th>\n",
       "      <td>1179245</td>\n",
       "      <td>Analyse numérique</td>\n",
       "      <td>MATH-150; MATH-250; MATH-251(a); MATH-251(b); ...</td>\n",
       "    </tr>\n",
       "    <tr>\n",
       "      <th>14</th>\n",
       "      <td>1705590</td>\n",
       "      <td>Analyse I</td>\n",
       "      <td>MATH-100; MATH-100(a); MATH-100(b); MATH-101(a...</td>\n",
       "    </tr>\n",
       "    <tr>\n",
       "      <th>18</th>\n",
       "      <td>1748172</td>\n",
       "      <td>Analyse I (allemand)</td>\n",
       "      <td>MATH-101(de); MATH-104</td>\n",
       "    </tr>\n",
       "    <tr>\n",
       "      <th>19</th>\n",
       "      <td>1770632</td>\n",
       "      <td>Barrages et ouvrages hydrauliques annexes</td>\n",
       "      <td>CIVIL-411</td>\n",
       "    </tr>\n",
       "    <tr>\n",
       "      <th>22</th>\n",
       "      <td>1770678</td>\n",
       "      <td>Applied molecular quantum chemistry</td>\n",
       "      <td>CH-451</td>\n",
       "    </tr>\n",
       "  </tbody>\n",
       "</table>\n",
       "</div>"
      ],
      "text/plain": [
       "    SubjectID                                SubjectName  \\\n",
       "2     1179245                          Analyse numérique   \n",
       "14    1705590                                  Analyse I   \n",
       "18    1748172                       Analyse I (allemand)   \n",
       "19    1770632  Barrages et ouvrages hydrauliques annexes   \n",
       "22    1770678        Applied molecular quantum chemistry   \n",
       "\n",
       "                                AssociatedCourseCodes  \n",
       "2   MATH-150; MATH-250; MATH-251(a); MATH-251(b); ...  \n",
       "14  MATH-100; MATH-100(a); MATH-100(b); MATH-101(a...  \n",
       "18                             MATH-101(de); MATH-104  \n",
       "19                                          CIVIL-411  \n",
       "22                                             CH-451  "
      ]
     },
     "execution_count": 102,
     "metadata": {},
     "output_type": "execute_result"
    }
   ],
   "source": [
    "courses_ksh_2016 = courses_ksh[courses_ksh['SubjectID'].isin(isa_courses_2016['SubjectID'])]\n",
    "courses_ksh_2016.head()"
   ]
  },
  {
   "cell_type": "code",
   "execution_count": 103,
   "metadata": {},
   "outputs": [
    {
     "name": "stdout",
     "output_type": "stream",
     "text": [
      "there are 764/3087 subjects from 2016 in khitij's data\n"
     ]
    }
   ],
   "source": [
    "print('there are ' + str(courses_ksh_2016.shape[0]) + '/' + str(courses_ksh.shape[0]) + \" subjects from 2016 in khitij's data\")"
   ]
  },
  {
   "cell_type": "code",
   "execution_count": 104,
   "metadata": {},
   "outputs": [],
   "source": [
    "if ONLY_2016:\n",
    "    courses_ksh_final = courses_ksh_2016\n",
    "else:\n",
    "    courses_ksh_final = courses_ksh"
   ]
  },
  {
   "cell_type": "markdown",
   "metadata": {},
   "source": [
    "- The unique courses will be courses_ksh_2016\n",
    "- The unique identifier will be the subject id\n",
    "- Process todo next:\n",
    "    - asssign the corresponding subjectID to each max_courses\n",
    "    - use that to translate the max_edges from code->code to subID->subID\n",
    "    - Now we have the baseline edges\n",
    "    - Then add the edges from Kshitij and get their directions with the grades file\n",
    "    \n",
    "## For each course of Max, find a subject ID\n",
    "### Then, translate the baseline edges from (courseCode) <-> (courseCode) to (subID) <-> (subID)\n",
    "We can either matche the CC to the subIDs by course name, or by course code. I chose to match by course name, because it prevents mistakes (course codes can change over the years) due to the fact that both datasets are not from the same year"
   ]
  },
  {
   "cell_type": "code",
   "execution_count": 105,
   "metadata": {},
   "outputs": [
    {
     "data": {
      "text/html": [
       "<div>\n",
       "<style scoped>\n",
       "    .dataframe tbody tr th:only-of-type {\n",
       "        vertical-align: middle;\n",
       "    }\n",
       "\n",
       "    .dataframe tbody tr th {\n",
       "        vertical-align: top;\n",
       "    }\n",
       "\n",
       "    .dataframe thead th {\n",
       "        text-align: right;\n",
       "    }\n",
       "</style>\n",
       "<table border=\"1\" class=\"dataframe\">\n",
       "  <thead>\n",
       "    <tr style=\"text-align: right;\">\n",
       "      <th></th>\n",
       "      <th>Source</th>\n",
       "      <th>Target</th>\n",
       "    </tr>\n",
       "  </thead>\n",
       "  <tbody>\n",
       "    <tr>\n",
       "      <th>9</th>\n",
       "      <td>7.147139e+07</td>\n",
       "      <td>2.381526e+07</td>\n",
       "    </tr>\n",
       "    <tr>\n",
       "      <th>12</th>\n",
       "      <td>3.510539e+08</td>\n",
       "      <td>1.772025e+06</td>\n",
       "    </tr>\n",
       "    <tr>\n",
       "      <th>13</th>\n",
       "      <td>3.522523e+08</td>\n",
       "      <td>1.772095e+06</td>\n",
       "    </tr>\n",
       "    <tr>\n",
       "      <th>19</th>\n",
       "      <td>1.678983e+09</td>\n",
       "      <td>1.678983e+09</td>\n",
       "    </tr>\n",
       "    <tr>\n",
       "      <th>21</th>\n",
       "      <td>1.773437e+06</td>\n",
       "      <td>1.772095e+06</td>\n",
       "    </tr>\n",
       "  </tbody>\n",
       "</table>\n",
       "</div>"
      ],
      "text/plain": [
       "          Source        Target\n",
       "9   7.147139e+07  2.381526e+07\n",
       "12  3.510539e+08  1.772025e+06\n",
       "13  3.522523e+08  1.772095e+06\n",
       "19  1.678983e+09  1.678983e+09\n",
       "21  1.773437e+06  1.772095e+06"
      ]
     },
     "execution_count": 105,
     "metadata": {},
     "output_type": "execute_result"
    }
   ],
   "source": [
    "# join with course names\n",
    "temp = courses_ksh_final\n",
    "temp.index = courses_ksh_final.SubjectName\n",
    "join_courses = max_courses_full.join(courses_ksh_final, on='Title')\n",
    "join_courses = join_courses[pd.notnull(join_courses['SubjectName'])]\n",
    "join_courses.drop(columns=['SubjectName', 'Title', 'AssociatedCourseCodes'], inplace=True)\n",
    "\n",
    "# make a dict max_code -> subjectID\n",
    "code_to_id = join_courses.set_index(join_courses['Code']).drop(columns=['Code']).to_dict()['SubjectID']\n",
    "\n",
    "# translate the baseline edges\n",
    "baseline_edges_final = baseline_edges[baseline_edges['Source'].isin(code_to_id) & baseline_edges['Target'].isin(code_to_id)].replace(code_to_id)\n",
    "baseline_edges_final.head()\n",
    "\n"
   ]
  },
  {
   "cell_type": "code",
   "execution_count": 106,
   "metadata": {},
   "outputs": [
    {
     "name": "stdout",
     "output_type": "stream",
     "text": [
      "We will keep 60/226 baseline edges\n"
     ]
    }
   ],
   "source": [
    "count = 0\n",
    "for row in baseline_edges.values:\n",
    "    if row[0] in code_to_id and row[1] in code_to_id:\n",
    "        count += 1\n",
    "print('We will keep ' + str(count) + '/' + str(baseline_edges.shape[0]) + ' baseline edges')"
   ]
  },
  {
   "cell_type": "markdown",
   "metadata": {},
   "source": [
    "## Process Kshitij's edges (Solution 1)\n",
    "The first solution is to take from the LDA edges all the pair of courses that appear in the grades correlations, so that we can infer their direction for the correlation. However, the two files only have ~100 common edges, which is really not enough."
   ]
  },
  {
   "cell_type": "code",
   "execution_count": 107,
   "metadata": {},
   "outputs": [],
   "source": [
    "# build dict name -> id\n",
    "name_to_id = dict()\n",
    "for row in courses_ksh_final.values:\n",
    "    name_to_id[row[1]]= row[0]"
   ]
  },
  {
   "cell_type": "markdown",
   "metadata": {},
   "source": [
    "### Import edges and find subjectIDs of their endpoints\n",
    "\n",
    "Choose if you want to make the match the courses by ID or by name:"
   ]
  },
  {
   "cell_type": "code",
   "execution_count": 108,
   "metadata": {},
   "outputs": [
    {
     "name": "stderr",
     "output_type": "stream",
     "text": [
      "b'Skipping line 5142: expected 4 fields, saw 5\\nSkipping line 5146: expected 4 fields, saw 6\\nSkipping line 5518: expected 4 fields, saw 8\\nSkipping line 6462: expected 4 fields, saw 5\\nSkipping line 6666: expected 4 fields, saw 6\\nSkipping line 7607: expected 4 fields, saw 6\\nSkipping line 8660: expected 4 fields, saw 5\\n'\n"
     ]
    }
   ],
   "source": [
    "# import the edges\n",
    "lda_edges = pd.read_csv('./data/Kshitij_old/edge_list_inf1_lda.csv', error_bad_lines=False)\n",
    "\n",
    "# match with names\n",
    "'''\n",
    "lda_edges = lda_edges[lda_edges['course1'].isin(courses_ksh_final.SubjectName) & lda_edges['course2'].isin(courses_ksh_final.SubjectName)]\n",
    "# rename the lda edges\n",
    "lda_edges['ID1'] = lda_edges.course1.replace(name_to_id)\n",
    "lda_edges['ID2'] = lda_edges.course2.replace(name_to_id)\n",
    "'''\n",
    "\n",
    "\n",
    "# or match with IDs\n",
    "lda_edges = lda_edges[lda_edges['code1'].isin(code_to_id) & lda_edges['code2'].isin(code_to_id)]\n",
    "# rename the lda edges\n",
    "lda_edges['ID1'] = lda_edges.code1.replace(code_to_id)\n",
    "lda_edges['ID2'] = lda_edges.code2.replace(code_to_id)"
   ]
  },
  {
   "cell_type": "code",
   "execution_count": 109,
   "metadata": {},
   "outputs": [
    {
     "data": {
      "text/plain": [
       "(1593, 2)"
      ]
     },
     "execution_count": 109,
     "metadata": {},
     "output_type": "execute_result"
    }
   ],
   "source": [
    "# drop unnececary columns\n",
    "lda_edges_final = lda_edges.drop(['code1', 'code2', 'course1', 'course2'], axis=1)\n",
    "lda_edges_final.head()\n",
    "lda_edges_final.shape"
   ]
  },
  {
   "cell_type": "markdown",
   "metadata": {},
   "source": [
    "### Match edges and grades correlations"
   ]
  },
  {
   "cell_type": "code",
   "execution_count": 110,
   "metadata": {},
   "outputs": [
    {
     "data": {
      "text/plain": [
       "\"\\nlda_edges_final_dict = dict()\\ni = 0\\nfor edge in lda_edges_final.values:\\n    i += 1\\n    if i % 100 == 0:\\n        print(str(int(100*i/lda_edges_final.shape[0])) + '%')\\n    for row in grades_cor.values:\\n        if (int(edge[0]) == int(row[0]) and int(edge[1]) == int(row[1])) or (int(edge[0]) == int(row[1]) and int(edge[1]) == int(row[0])):\\n            if row[2] > row[4]:\\n                lda_edges_final_dict[row[0]] = row[1]\\n            else:\\n                lda_edges_final_dict[row[1]] = row[0]\\n\""
      ]
     },
     "execution_count": 110,
     "metadata": {},
     "output_type": "execute_result"
    }
   ],
   "source": [
    "# create the set of edges by taking each edge of the lda_edge_set if it has a correspondance in the grade set\n",
    "# if there is a correspondance, use it to find the direction of the edge\n",
    "'''\n",
    "lda_edges_final_dict = dict()\n",
    "i = 0\n",
    "for edge in lda_edges_final.values:\n",
    "    i += 1\n",
    "    if i % 100 == 0:\n",
    "        print(str(int(100*i/lda_edges_final.shape[0])) + '%')\n",
    "    for row in grades_cor.values:\n",
    "        if (int(edge[0]) == int(row[0]) and int(edge[1]) == int(row[1])) or (int(edge[0]) == int(row[1]) and int(edge[1]) == int(row[0])):\n",
    "            if row[2] > row[4]:\n",
    "                lda_edges_final_dict[row[0]] = row[1]\n",
    "            else:\n",
    "                lda_edges_final_dict[row[1]] = row[0]\n",
    "'''"
   ]
  },
  {
   "cell_type": "code",
   "execution_count": 111,
   "metadata": {},
   "outputs": [],
   "source": [
    "#len(lda_edges_final_dict)\n",
    "#lda_edges_final_dict"
   ]
  },
  {
   "cell_type": "markdown",
   "metadata": {},
   "source": [
    "This is not satisfying, as the edges from Kshitij (PSLA, LDA, ...) are completly different from the 'grades corelations' pairs. Thus we only get directions for ~100 edges.\n",
    "## The other solution: directly use the grades corelations as edges"
   ]
  },
  {
   "cell_type": "code",
   "execution_count": 112,
   "metadata": {},
   "outputs": [],
   "source": [
    "edges_grades = pd.DataFrame()\n",
    "edges_grades['Source'] = grades_cor.apply(lambda x: x[0] if x[2] > x[4] else x[1], axis=1)\n",
    "edges_grades['Target'] = grades_cor.apply(lambda x: x[0] if x[2] <= x[4] else x[1], axis=1)\n",
    "edges_grades['cor'] = grades_cor.apply(lambda x: max(x[2], x[4]), axis=1)\n",
    "edges_grades['sameSemester'] = grades_cor['sameSemester']"
   ]
  },
  {
   "cell_type": "code",
   "execution_count": 113,
   "metadata": {},
   "outputs": [
    {
     "data": {
      "text/html": [
       "<div>\n",
       "<style scoped>\n",
       "    .dataframe tbody tr th:only-of-type {\n",
       "        vertical-align: middle;\n",
       "    }\n",
       "\n",
       "    .dataframe tbody tr th {\n",
       "        vertical-align: top;\n",
       "    }\n",
       "\n",
       "    .dataframe thead th {\n",
       "        text-align: right;\n",
       "    }\n",
       "</style>\n",
       "<table border=\"1\" class=\"dataframe\">\n",
       "  <thead>\n",
       "    <tr style=\"text-align: right;\">\n",
       "      <th></th>\n",
       "      <th>Source</th>\n",
       "      <th>Target</th>\n",
       "      <th>cor</th>\n",
       "      <th>sameSemester</th>\n",
       "    </tr>\n",
       "  </thead>\n",
       "  <tbody>\n",
       "    <tr>\n",
       "      <th>0</th>\n",
       "      <td>1179245.0</td>\n",
       "      <td>1179240.0</td>\n",
       "      <td>0.578663</td>\n",
       "      <td>0</td>\n",
       "    </tr>\n",
       "    <tr>\n",
       "      <th>1</th>\n",
       "      <td>1179240.0</td>\n",
       "      <td>1186202.0</td>\n",
       "      <td>0.638191</td>\n",
       "      <td>2</td>\n",
       "    </tr>\n",
       "    <tr>\n",
       "      <th>2</th>\n",
       "      <td>1705532.0</td>\n",
       "      <td>1179240.0</td>\n",
       "      <td>0.534409</td>\n",
       "      <td>594</td>\n",
       "    </tr>\n",
       "    <tr>\n",
       "      <th>3</th>\n",
       "      <td>1705538.0</td>\n",
       "      <td>1179240.0</td>\n",
       "      <td>0.611785</td>\n",
       "      <td>0</td>\n",
       "    </tr>\n",
       "    <tr>\n",
       "      <th>4</th>\n",
       "      <td>1179240.0</td>\n",
       "      <td>1705590.0</td>\n",
       "      <td>0.488534</td>\n",
       "      <td>1186</td>\n",
       "    </tr>\n",
       "  </tbody>\n",
       "</table>\n",
       "</div>"
      ],
      "text/plain": [
       "      Source     Target       cor  sameSemester\n",
       "0  1179245.0  1179240.0  0.578663             0\n",
       "1  1179240.0  1186202.0  0.638191             2\n",
       "2  1705532.0  1179240.0  0.534409           594\n",
       "3  1705538.0  1179240.0  0.611785             0\n",
       "4  1179240.0  1705590.0  0.488534          1186"
      ]
     },
     "execution_count": 113,
     "metadata": {},
     "output_type": "execute_result"
    }
   ],
   "source": [
    "edges_grades.head()"
   ]
  },
  {
   "cell_type": "code",
   "execution_count": 114,
   "metadata": {},
   "outputs": [
    {
     "name": "stdout",
     "output_type": "stream",
     "text": [
      "(5828, 4)\n",
      "(883, 4)\n"
     ]
    }
   ],
   "source": [
    "print(edges_grades.shape)\n",
    "print(edges_grades[edges_grades.cor > 0.5].shape)"
   ]
  },
  {
   "cell_type": "markdown",
   "metadata": {},
   "source": [
    "### Keep only the edges from/to 2016 courses"
   ]
  },
  {
   "cell_type": "code",
   "execution_count": 115,
   "metadata": {},
   "outputs": [
    {
     "name": "stdout",
     "output_type": "stream",
     "text": [
      "(1255, 2)\n"
     ]
    }
   ],
   "source": [
    "# Keep only edges that have both endpoints in the courses' list and have a correlation > 0\n",
    "\n",
    "correlation_threshold = 0\n",
    "\n",
    "if ONLY_2016:\n",
    "    edges_grades_final = edges_grades[edges_grades['Source'].isin(courses_ksh_2016.SubjectID) & edges_grades['Target'].isin(courses_ksh_2016.SubjectID)]\n",
    "    edges_grades_final = edges_grades_final[edges_grades_final.cor > correlation_threshold][['Source', 'Target']]\n",
    "else:\n",
    "    edges_grades_final = edges_grades[edges_grades['Source'].isin(courses_ksh.SubjectID) & edges_grades['Target'].isin(courses_ksh.SubjectID)]\n",
    "    edges_grades_final = edges_grades_final[edges_grades_final.cor > correlation_threshold][['Source', 'Target']]\n",
    "\n",
    "print(edges_grades_final.shape)"
   ]
  },
  {
   "cell_type": "markdown",
   "metadata": {},
   "source": [
    "## Final Processing and Exporting"
   ]
  },
  {
   "cell_type": "code",
   "execution_count": 116,
   "metadata": {},
   "outputs": [],
   "source": [
    "courses = courses_ksh_final.reset_index(drop=True).rename({'SubjectID':'Id'}, axis=1)\n",
    "edges = pd.concat([baseline_edges_final, edges_grades_final]).astype(int)"
   ]
  },
  {
   "cell_type": "code",
   "execution_count": 117,
   "metadata": {},
   "outputs": [
    {
     "name": "stdout",
     "output_type": "stream",
     "text": [
      "True\n",
      "True\n"
     ]
    }
   ],
   "source": [
    "# Sanity check\n",
    "print(edges['Source'].isin(courses.Id).all())\n",
    "print(edges['Target'].isin(courses.Id).all())"
   ]
  },
  {
   "cell_type": "code",
   "execution_count": 118,
   "metadata": {},
   "outputs": [],
   "source": [
    "courses.to_csv('./data/output/courses_grades_2016.csv', index=False)\n",
    "edges.to_csv('./data/output/edges_grades_2016.csv', index=False)"
   ]
  },
  {
   "cell_type": "markdown",
   "metadata": {},
   "source": [
    "## Third solution: Export the LDA edges and ignore the direction"
   ]
  },
  {
   "cell_type": "code",
   "execution_count": 119,
   "metadata": {},
   "outputs": [],
   "source": [
    "lda_edges_final.rename({'ID1':'Source', 'ID2':'Target'}, axis=1).astype(int).to_csv('./data/output/edges_LDA_undir_2016.csv', index=False)"
   ]
  },
  {
   "cell_type": "code",
   "execution_count": null,
   "metadata": {},
   "outputs": [],
   "source": []
  }
 ],
 "metadata": {
  "kernelspec": {
   "display_name": "Python 3",
   "language": "python",
   "name": "python3"
  },
  "language_info": {
   "codemirror_mode": {
    "name": "ipython",
    "version": 3
   },
   "file_extension": ".py",
   "mimetype": "text/x-python",
   "name": "python",
   "nbconvert_exporter": "python",
   "pygments_lexer": "ipython3",
   "version": "3.5.2"
  }
 },
 "nbformat": 4,
 "nbformat_minor": 2
}
