{
 "cells": [
  {
   "cell_type": "code",
   "execution_count": null,
   "metadata": {},
   "outputs": [],
   "source": [
    "import pandas as pd\n",
    "import numpy as np"
   ]
  },
  {
   "cell_type": "code",
   "execution_count": 84,
   "metadata": {},
   "outputs": [
    {
     "data": {
      "text/html": [
       "<div>\n",
       "<style scoped>\n",
       "    .dataframe tbody tr th:only-of-type {\n",
       "        vertical-align: middle;\n",
       "    }\n",
       "\n",
       "    .dataframe tbody tr th {\n",
       "        vertical-align: top;\n",
       "    }\n",
       "\n",
       "    .dataframe thead th {\n",
       "        text-align: right;\n",
       "    }\n",
       "</style>\n",
       "<table border=\"1\" class=\"dataframe\">\n",
       "  <thead>\n",
       "    <tr style=\"text-align: right;\">\n",
       "      <th></th>\n",
       "      <th>SubjectName</th>\n",
       "      <th>SubjectID</th>\n",
       "      <th>CourseCode</th>\n",
       "    </tr>\n",
       "  </thead>\n",
       "  <tbody>\n",
       "    <tr>\n",
       "      <th>0</th>\n",
       "      <td>Histoire de l'architecture I</td>\n",
       "      <td>1773962</td>\n",
       "      <td>AR-123</td>\n",
       "    </tr>\n",
       "    <tr>\n",
       "      <th>1</th>\n",
       "      <td>Stéréotomie</td>\n",
       "      <td>1769400055</td>\n",
       "      <td>AR-211</td>\n",
       "    </tr>\n",
       "    <tr>\n",
       "      <th>2</th>\n",
       "      <td>Introduction aux outils CAO en architecture</td>\n",
       "      <td>1888400347</td>\n",
       "      <td>AR-219</td>\n",
       "    </tr>\n",
       "    <tr>\n",
       "      <th>3</th>\n",
       "      <td>Théorie de l'architecture III</td>\n",
       "      <td>1776787</td>\n",
       "      <td>AR-221</td>\n",
       "    </tr>\n",
       "    <tr>\n",
       "      <th>4</th>\n",
       "      <td>Histoire de l'architecture III</td>\n",
       "      <td>1773972</td>\n",
       "      <td>AR-223</td>\n",
       "    </tr>\n",
       "  </tbody>\n",
       "</table>\n",
       "</div>"
      ],
      "text/plain": [
       "                                   SubjectName   SubjectID CourseCode\n",
       "0                 Histoire de l'architecture I     1773962     AR-123\n",
       "1                                  Stéréotomie  1769400055     AR-211\n",
       "2  Introduction aux outils CAO en architecture  1888400347     AR-219\n",
       "3                Théorie de l'architecture III     1776787     AR-221\n",
       "4               Histoire de l'architecture III     1773972     AR-223"
      ]
     },
     "execution_count": 84,
     "metadata": {},
     "output_type": "execute_result"
    }
   ],
   "source": [
    "isa = pd.read_csv('./data/ISA_romain/subject_coursecode_mapping_2015_2016.csv', sep='|')\n",
    "isa_courses = set(isa.CourseCode.values)\n",
    "isa.head()"
   ]
  },
  {
   "cell_type": "code",
   "execution_count": 85,
   "metadata": {
    "scrolled": true
   },
   "outputs": [
    {
     "data": {
      "text/html": [
       "<div>\n",
       "<style scoped>\n",
       "    .dataframe tbody tr th:only-of-type {\n",
       "        vertical-align: middle;\n",
       "    }\n",
       "\n",
       "    .dataframe tbody tr th {\n",
       "        vertical-align: top;\n",
       "    }\n",
       "\n",
       "    .dataframe thead th {\n",
       "        text-align: right;\n",
       "    }\n",
       "</style>\n",
       "<table border=\"1\" class=\"dataframe\">\n",
       "  <thead>\n",
       "    <tr style=\"text-align: right;\">\n",
       "      <th></th>\n",
       "      <th>Code</th>\n",
       "    </tr>\n",
       "  </thead>\n",
       "  <tbody>\n",
       "    <tr>\n",
       "      <th>0</th>\n",
       "      <td>AR-101</td>\n",
       "    </tr>\n",
       "    <tr>\n",
       "      <th>1</th>\n",
       "      <td>AR-102</td>\n",
       "    </tr>\n",
       "    <tr>\n",
       "      <th>2</th>\n",
       "      <td>AR-111</td>\n",
       "    </tr>\n",
       "    <tr>\n",
       "      <th>3</th>\n",
       "      <td>AR-112</td>\n",
       "    </tr>\n",
       "    <tr>\n",
       "      <th>4</th>\n",
       "      <td>AR-121</td>\n",
       "    </tr>\n",
       "  </tbody>\n",
       "</table>\n",
       "</div>"
      ],
      "text/plain": [
       "     Code\n",
       "0  AR-101\n",
       "1  AR-102\n",
       "2  AR-111\n",
       "3  AR-112\n",
       "4  AR-121"
      ]
     },
     "execution_count": 85,
     "metadata": {},
     "output_type": "execute_result"
    }
   ],
   "source": [
    "max_courses = pd.read_csv('./data/Max/course_list.csv')\n",
    "max_courses.head()"
   ]
  },
  {
   "cell_type": "code",
   "execution_count": 86,
   "metadata": {},
   "outputs": [
    {
     "data": {
      "text/html": [
       "<div>\n",
       "<style scoped>\n",
       "    .dataframe tbody tr th:only-of-type {\n",
       "        vertical-align: middle;\n",
       "    }\n",
       "\n",
       "    .dataframe tbody tr th {\n",
       "        vertical-align: top;\n",
       "    }\n",
       "\n",
       "    .dataframe thead th {\n",
       "        text-align: right;\n",
       "    }\n",
       "</style>\n",
       "<table border=\"1\" class=\"dataframe\">\n",
       "  <thead>\n",
       "    <tr style=\"text-align: right;\">\n",
       "      <th></th>\n",
       "      <th>Code</th>\n",
       "      <th>Title</th>\n",
       "    </tr>\n",
       "  </thead>\n",
       "  <tbody>\n",
       "    <tr>\n",
       "      <th>0</th>\n",
       "      <td>AR-101</td>\n",
       "      <td>Studio BA1</td>\n",
       "    </tr>\n",
       "    <tr>\n",
       "      <th>1</th>\n",
       "      <td>AR-101</td>\n",
       "      <td>Théorie et critique du projet BA1</td>\n",
       "    </tr>\n",
       "    <tr>\n",
       "      <th>2</th>\n",
       "      <td>AR-102</td>\n",
       "      <td>Studio BA2</td>\n",
       "    </tr>\n",
       "    <tr>\n",
       "      <th>3</th>\n",
       "      <td>AR-102</td>\n",
       "      <td>Théorie et critique du projet BA2</td>\n",
       "    </tr>\n",
       "    <tr>\n",
       "      <th>4</th>\n",
       "      <td>AR-111</td>\n",
       "      <td>Figuration graphique I</td>\n",
       "    </tr>\n",
       "  </tbody>\n",
       "</table>\n",
       "</div>"
      ],
      "text/plain": [
       "     Code                              Title\n",
       "0  AR-101                         Studio BA1\n",
       "1  AR-101  Théorie et critique du projet BA1\n",
       "2  AR-102                         Studio BA2\n",
       "3  AR-102  Théorie et critique du projet BA2\n",
       "4  AR-111             Figuration graphique I"
      ]
     },
     "execution_count": 86,
     "metadata": {},
     "output_type": "execute_result"
    }
   ],
   "source": [
    "# Note that this contains each course twice, once in english and once in french\n",
    "max_courses_full = pd.read_csv('./data/Max/courses.csv')[['Code', 'Title']]\n",
    "max_courses_full.head()"
   ]
  },
  {
   "cell_type": "code",
   "execution_count": 87,
   "metadata": {},
   "outputs": [
    {
     "data": {
      "text/html": [
       "<div>\n",
       "<style scoped>\n",
       "    .dataframe tbody tr th:only-of-type {\n",
       "        vertical-align: middle;\n",
       "    }\n",
       "\n",
       "    .dataframe tbody tr th {\n",
       "        vertical-align: top;\n",
       "    }\n",
       "\n",
       "    .dataframe thead th {\n",
       "        text-align: right;\n",
       "    }\n",
       "</style>\n",
       "<table border=\"1\" class=\"dataframe\">\n",
       "  <thead>\n",
       "    <tr style=\"text-align: right;\">\n",
       "      <th></th>\n",
       "      <th>Source</th>\n",
       "      <th>Target</th>\n",
       "    </tr>\n",
       "  </thead>\n",
       "  <tbody>\n",
       "    <tr>\n",
       "      <th>0</th>\n",
       "      <td>AR-112</td>\n",
       "      <td>AR-111</td>\n",
       "    </tr>\n",
       "    <tr>\n",
       "      <th>1</th>\n",
       "      <td>AR-211</td>\n",
       "      <td>MATH-121</td>\n",
       "    </tr>\n",
       "    <tr>\n",
       "      <th>2</th>\n",
       "      <td>AR-219</td>\n",
       "      <td>MATH-126</td>\n",
       "    </tr>\n",
       "    <tr>\n",
       "      <th>3</th>\n",
       "      <td>AR-231</td>\n",
       "      <td>CIVIL-122</td>\n",
       "    </tr>\n",
       "    <tr>\n",
       "      <th>4</th>\n",
       "      <td>AR-239</td>\n",
       "      <td>CIVIL-122</td>\n",
       "    </tr>\n",
       "  </tbody>\n",
       "</table>\n",
       "</div>"
      ],
      "text/plain": [
       "   Source     Target\n",
       "0  AR-112     AR-111\n",
       "1  AR-211   MATH-121\n",
       "2  AR-219   MATH-126\n",
       "3  AR-231  CIVIL-122\n",
       "4  AR-239  CIVIL-122"
      ]
     },
     "execution_count": 87,
     "metadata": {},
     "output_type": "execute_result"
    }
   ],
   "source": [
    "# Baseline edges scraped by Max\n",
    "baseline_edges = pd.read_csv('./data/Max/edges/pre_obl.csv')[['Source', 'Target']]\n",
    "baseline_edges.head()"
   ]
  },
  {
   "cell_type": "code",
   "execution_count": 88,
   "metadata": {},
   "outputs": [
    {
     "name": "stdout",
     "output_type": "stream",
     "text": [
      "We would have to drop 161/452 baseline edges with ISA courses 15-16\n"
     ]
    }
   ],
   "source": [
    "# How many baseline edges would we loose with courses from ISA? Here we try to match the courses by course codes\n",
    "n_drops = 0\n",
    "for row in baseline_edges.values:\n",
    "    if(row[0] not in isa_courses or row[1] not in isa_courses):\n",
    "        n_drops += 1\n",
    "print('We would have to drop ' + str(n_drops) +  '/' + str(baseline_edges.size) + \" baseline edges with ISA courses 15-16\")"
   ]
  },
  {
   "cell_type": "code",
   "execution_count": 89,
   "metadata": {},
   "outputs": [
    {
     "name": "stdout",
     "output_type": "stream",
     "text": [
      "Remaining courses from Max: 733\n",
      "Edges to drop: 163/452\n"
     ]
    }
   ],
   "source": [
    "# let's try to join the courses' titles from ISA with the titles from Max:\n",
    "# This is not better...\n",
    "remaining_courses = set()\n",
    "dropped_courses = dict()\n",
    "for row in max_courses_full.values:\n",
    "    title_max = row[1]\n",
    "    code_max = row[0]\n",
    "    if title_max in set(isa.SubjectName.values):\n",
    "        remaining_courses.add(code_max)\n",
    "    else:\n",
    "        dropped_courses[code_max]= title_max\n",
    "print('Remaining courses from Max: ' + str(len(remaining_courses)))\n",
    "\n",
    "# let's check how many baseline edges we would have to drop with this course set\n",
    "n_drops = 0\n",
    "for row in baseline_edges.values:\n",
    "    if(row[0] not in remaining_courses or row[1] not in remaining_courses):\n",
    "        n_drops += 1\n",
    "print('Edges to drop: ' + str(n_drops) + '/' + str(baseline_edges.size))"
   ]
  },
  {
   "cell_type": "markdown",
   "metadata": {},
   "source": [
    "# Match Max's data with Kshitij's data\n",
    "\n",
    "The problem here is that Max's data was scraped from the web, and thus the courses do not have a subject ID. Also, the data was scraped in 2017, but the data from ISA that Kshitij used only goes until 2016.\n",
    "Therefore, the goal is to match the data by course code and/or course name as best as possible, considering that course codes/names can change over the years. Since this might create inconsistencies, I decided to process as follow: \n",
    "- The baseline (Max's scraped data) should stay true no matter what\n",
    "- Add as much edges from Kshitij's data as you can. It's fine if some are missing\n",
    "- It's okay if Kshitij's data has mistakes/inconsistencies, but try to avoid them as much as possible\n",
    "\n",
    "### Data Exploration: Kshitij's data"
   ]
  },
  {
   "cell_type": "code",
   "execution_count": 90,
   "metadata": {},
   "outputs": [
    {
     "data": {
      "text/html": [
       "<div>\n",
       "<style scoped>\n",
       "    .dataframe tbody tr th:only-of-type {\n",
       "        vertical-align: middle;\n",
       "    }\n",
       "\n",
       "    .dataframe tbody tr th {\n",
       "        vertical-align: top;\n",
       "    }\n",
       "\n",
       "    .dataframe thead th {\n",
       "        text-align: right;\n",
       "    }\n",
       "</style>\n",
       "<table border=\"1\" class=\"dataframe\">\n",
       "  <thead>\n",
       "    <tr style=\"text-align: right;\">\n",
       "      <th></th>\n",
       "      <th>SubjectID</th>\n",
       "      <th>SubjectName</th>\n",
       "      <th>AssociatedCourseCodes</th>\n",
       "    </tr>\n",
       "  </thead>\n",
       "  <tbody>\n",
       "    <tr>\n",
       "      <th>0</th>\n",
       "      <td>1179233</td>\n",
       "      <td>Analyse I, II (allemand)</td>\n",
       "      <td>NaN</td>\n",
       "    </tr>\n",
       "    <tr>\n",
       "      <th>1</th>\n",
       "      <td>1179240</td>\n",
       "      <td>Algèbre linéaire I</td>\n",
       "      <td>MATH-110; MATH-110(b); MATH-112; MATH-112(a); ...</td>\n",
       "    </tr>\n",
       "    <tr>\n",
       "      <th>2</th>\n",
       "      <td>1179245</td>\n",
       "      <td>Analyse numérique</td>\n",
       "      <td>MATH-150; MATH-250; MATH-251(a); MATH-251(b); ...</td>\n",
       "    </tr>\n",
       "    <tr>\n",
       "      <th>3</th>\n",
       "      <td>1179253</td>\n",
       "      <td>Plan BA/MA</td>\n",
       "      <td>NaN</td>\n",
       "    </tr>\n",
       "    <tr>\n",
       "      <th>4</th>\n",
       "      <td>1186202</td>\n",
       "      <td>Algèbre linéaire II</td>\n",
       "      <td>MATH-115; MATH-117; MATH-117(a); MATH-117(b)</td>\n",
       "    </tr>\n",
       "  </tbody>\n",
       "</table>\n",
       "</div>"
      ],
      "text/plain": [
       "   SubjectID               SubjectName  \\\n",
       "0    1179233  Analyse I, II (allemand)   \n",
       "1    1179240        Algèbre linéaire I   \n",
       "2    1179245         Analyse numérique   \n",
       "3    1179253                Plan BA/MA   \n",
       "4    1186202       Algèbre linéaire II   \n",
       "\n",
       "                               AssociatedCourseCodes  \n",
       "0                                                NaN  \n",
       "1  MATH-110; MATH-110(b); MATH-112; MATH-112(a); ...  \n",
       "2  MATH-150; MATH-250; MATH-251(a); MATH-251(b); ...  \n",
       "3                                                NaN  \n",
       "4       MATH-115; MATH-117; MATH-117(a); MATH-117(b)  "
      ]
     },
     "execution_count": 90,
     "metadata": {},
     "output_type": "execute_result"
    }
   ],
   "source": [
    "courses_ksh = pd.read_csv('./data/Kshitij_new/isa-subject-id-name-code-hash.csv')\n",
    "courses_ksh.head()"
   ]
  },
  {
   "cell_type": "code",
   "execution_count": 91,
   "metadata": {},
   "outputs": [
    {
     "name": "stdout",
     "output_type": "stream",
     "text": [
      "There are 3278/6365 courses with no codes\n"
     ]
    }
   ],
   "source": [
    "print(\"There are \" + str(courses_ksh.AssociatedCourseCodes.isnull().sum()) + \"/\" + str(len(courses_ksh)) + \" courses with no codes\")"
   ]
  },
  {
   "cell_type": "code",
   "execution_count": 73,
   "metadata": {},
   "outputs": [
    {
     "data": {
      "text/html": [
       "<div>\n",
       "<style scoped>\n",
       "    .dataframe tbody tr th:only-of-type {\n",
       "        vertical-align: middle;\n",
       "    }\n",
       "\n",
       "    .dataframe tbody tr th {\n",
       "        vertical-align: top;\n",
       "    }\n",
       "\n",
       "    .dataframe thead th {\n",
       "        text-align: right;\n",
       "    }\n",
       "</style>\n",
       "<table border=\"1\" class=\"dataframe\">\n",
       "  <thead>\n",
       "    <tr style=\"text-align: right;\">\n",
       "      <th></th>\n",
       "      <th>sub1</th>\n",
       "      <th>sub2</th>\n",
       "      <th>cor1</th>\n",
       "      <th>pval1</th>\n",
       "      <th>cor2</th>\n",
       "      <th>pval2</th>\n",
       "      <th>sameSemester</th>\n",
       "    </tr>\n",
       "  </thead>\n",
       "  <tbody>\n",
       "    <tr>\n",
       "      <th>0</th>\n",
       "      <td>1179240</td>\n",
       "      <td>1179245</td>\n",
       "      <td>0.479456</td>\n",
       "      <td>1.053786e-71</td>\n",
       "      <td>0.578663</td>\n",
       "      <td>1.057758e-13</td>\n",
       "      <td>0</td>\n",
       "    </tr>\n",
       "    <tr>\n",
       "      <th>1</th>\n",
       "      <td>1179240</td>\n",
       "      <td>1186202</td>\n",
       "      <td>0.638191</td>\n",
       "      <td>2.904612e-168</td>\n",
       "      <td>0.562914</td>\n",
       "      <td>1.925217e-17</td>\n",
       "      <td>2</td>\n",
       "    </tr>\n",
       "    <tr>\n",
       "      <th>2</th>\n",
       "      <td>1179240</td>\n",
       "      <td>1705532</td>\n",
       "      <td>0.491199</td>\n",
       "      <td>3.313850e-08</td>\n",
       "      <td>0.534409</td>\n",
       "      <td>7.964026e-13</td>\n",
       "      <td>594</td>\n",
       "    </tr>\n",
       "    <tr>\n",
       "      <th>3</th>\n",
       "      <td>1179240</td>\n",
       "      <td>1705538</td>\n",
       "      <td>0.601198</td>\n",
       "      <td>1.168207e-63</td>\n",
       "      <td>0.611785</td>\n",
       "      <td>6.559217e-15</td>\n",
       "      <td>0</td>\n",
       "    </tr>\n",
       "    <tr>\n",
       "      <th>4</th>\n",
       "      <td>1179240</td>\n",
       "      <td>1705590</td>\n",
       "      <td>0.488534</td>\n",
       "      <td>1.368027e-23</td>\n",
       "      <td>0.444710</td>\n",
       "      <td>6.189562e-12</td>\n",
       "      <td>1186</td>\n",
       "    </tr>\n",
       "  </tbody>\n",
       "</table>\n",
       "</div>"
      ],
      "text/plain": [
       "      sub1     sub2      cor1          pval1      cor2         pval2  \\\n",
       "0  1179240  1179245  0.479456   1.053786e-71  0.578663  1.057758e-13   \n",
       "1  1179240  1186202  0.638191  2.904612e-168  0.562914  1.925217e-17   \n",
       "2  1179240  1705532  0.491199   3.313850e-08  0.534409  7.964026e-13   \n",
       "3  1179240  1705538  0.601198   1.168207e-63  0.611785  6.559217e-15   \n",
       "4  1179240  1705590  0.488534   1.368027e-23  0.444710  6.189562e-12   \n",
       "\n",
       "   sameSemester  \n",
       "0             0  \n",
       "1             2  \n",
       "2           594  \n",
       "3             0  \n",
       "4          1186  "
      ]
     },
     "execution_count": 73,
     "metadata": {},
     "output_type": "execute_result"
    }
   ],
   "source": [
    "edges_ksh = pd.read_csv('./data/Kshitij_new/correlation-subject-pair.csv')[['sub1', 'sub2', 'cor1', 'pval1', 'cor2', 'pval2', 'sameSemester']]\n",
    "edges_ksh.head()"
   ]
  },
  {
   "cell_type": "code",
   "execution_count": 94,
   "metadata": {},
   "outputs": [
    {
     "name": "stdout",
     "output_type": "stream",
     "text": [
      "3087\n",
      "We would drop 0/5828 edges\n"
     ]
    }
   ],
   "source": [
    "# Let's see how many edges we would have to drop if we drop all courses with no courseCode\n",
    "courses_ksh_no_null = set(courses_ksh.dropna(subset=['AssociatedCourseCodes']).SubjectID.values)\n",
    "#courses_ksh_no_null = courses_ksh[pd.notnull(courses_ksh['AssociatedCourseCodes'])]\n",
    "print(len(courses_ksh_no_null))\n",
    "n_drops_edges = 0\n",
    "for row in edges_ksh.values:\n",
    "    if row[0] not in courses_ksh_no_null or row[1] not in courses_ksh_no_null:\n",
    "        n_drops_edges += 1\n",
    "print(\"We would drop \" + str(n_drops_edges) + \"/\" + str(len(edges_ksh)) + \" edges\")"
   ]
  },
  {
   "cell_type": "markdown",
   "metadata": {},
   "source": [
    "It seems there is no edge from/to courses that have no course code. Thus, we can discard all the courses that have no code. \\o/"
   ]
  },
  {
   "cell_type": "code",
   "execution_count": 76,
   "metadata": {},
   "outputs": [],
   "source": [
    "# Drop the data with no course code\n",
    "courses_ksh.dropna(subset=['AssociatedCourseCodes'], inplace=True)"
   ]
  },
  {
   "cell_type": "markdown",
   "metadata": {},
   "source": [
    "### Matching the courses\n",
    "The idea here is to try and assign each scraped course a subjectID, then filter k's edges and keep only those with two endpoits in the scraped courses\n"
   ]
  },
  {
   "cell_type": "code",
   "execution_count": 77,
   "metadata": {},
   "outputs": [
    {
     "data": {
      "text/html": [
       "<div>\n",
       "<style scoped>\n",
       "    .dataframe tbody tr th:only-of-type {\n",
       "        vertical-align: middle;\n",
       "    }\n",
       "\n",
       "    .dataframe tbody tr th {\n",
       "        vertical-align: top;\n",
       "    }\n",
       "\n",
       "    .dataframe thead th {\n",
       "        text-align: right;\n",
       "    }\n",
       "</style>\n",
       "<table border=\"1\" class=\"dataframe\">\n",
       "  <thead>\n",
       "    <tr style=\"text-align: right;\">\n",
       "      <th></th>\n",
       "      <th>Code</th>\n",
       "      <th>Title</th>\n",
       "      <th>SubjectID</th>\n",
       "      <th>AssociatedCourseCodes</th>\n",
       "    </tr>\n",
       "  </thead>\n",
       "  <tbody>\n",
       "    <tr>\n",
       "      <th>9</th>\n",
       "      <td>AR-121</td>\n",
       "      <td>Théorie de l'architecture I</td>\n",
       "      <td>1776777.0</td>\n",
       "      <td>AR-121</td>\n",
       "    </tr>\n",
       "    <tr>\n",
       "      <th>11</th>\n",
       "      <td>AR-122</td>\n",
       "      <td>Théorie de l'architecture II</td>\n",
       "      <td>1776782.0</td>\n",
       "      <td>AR-122</td>\n",
       "    </tr>\n",
       "    <tr>\n",
       "      <th>12</th>\n",
       "      <td>AR-123</td>\n",
       "      <td>Histoire de l'architecture I</td>\n",
       "      <td>1773962.0</td>\n",
       "      <td>AR-123</td>\n",
       "    </tr>\n",
       "    <tr>\n",
       "      <th>14</th>\n",
       "      <td>AR-124</td>\n",
       "      <td>Histoire de l'architecture II</td>\n",
       "      <td>1773967.0</td>\n",
       "      <td>AR-124</td>\n",
       "    </tr>\n",
       "    <tr>\n",
       "      <th>17</th>\n",
       "      <td>AR-131</td>\n",
       "      <td>Construction et durabilité I</td>\n",
       "      <td>837374049.0</td>\n",
       "      <td>AR-131</td>\n",
       "    </tr>\n",
       "  </tbody>\n",
       "</table>\n",
       "</div>"
      ],
      "text/plain": [
       "      Code                          Title    SubjectID AssociatedCourseCodes\n",
       "9   AR-121    Théorie de l'architecture I    1776777.0                AR-121\n",
       "11  AR-122   Théorie de l'architecture II    1776782.0                AR-122\n",
       "12  AR-123   Histoire de l'architecture I    1773962.0                AR-123\n",
       "14  AR-124  Histoire de l'architecture II    1773967.0                AR-124\n",
       "17  AR-131   Construction et durabilité I  837374049.0                AR-131"
      ]
     },
     "execution_count": 77,
     "metadata": {},
     "output_type": "execute_result"
    }
   ],
   "source": [
    "courses_ksh_join = courses_ksh\n",
    "courses_ksh_join.index = courses_ksh.SubjectName\n",
    "courses_ksh_join\n",
    "join_courses = max_courses_full.join(courses_ksh, on='Title')\n",
    "join_courses = join_courses[pd.notnull(join_courses['SubjectName'])]\n",
    "join_courses.drop(columns=['SubjectName'], inplace=True)\n",
    "join_courses.head()"
   ]
  },
  {
   "cell_type": "code",
   "execution_count": 78,
   "metadata": {},
   "outputs": [
    {
     "name": "stdout",
     "output_type": "stream",
     "text": [
      "(3078, 2)\n",
      "1446\n"
     ]
    }
   ],
   "source": [
    "print(max_courses_full.shape)\n",
    "print(len(join_courses.Code.unique()))"
   ]
  },
  {
   "cell_type": "code",
   "execution_count": 79,
   "metadata": {},
   "outputs": [
    {
     "data": {
      "text/plain": [
       "(1774, 4)"
      ]
     },
     "execution_count": 79,
     "metadata": {},
     "output_type": "execute_result"
    }
   ],
   "source": [
    "join_courses[join_courses.AssociatedCourseCodes == join_courses.Code].shape"
   ]
  },
  {
   "cell_type": "code",
   "execution_count": 80,
   "metadata": {},
   "outputs": [
    {
     "data": {
      "text/plain": [
       "(2144, 4)"
      ]
     },
     "execution_count": 80,
     "metadata": {},
     "output_type": "execute_result"
    }
   ],
   "source": [
    "join_courses.shape"
   ]
  },
  {
   "cell_type": "code",
   "execution_count": 81,
   "metadata": {},
   "outputs": [
    {
     "name": "stdout",
     "output_type": "stream",
     "text": [
      "1446\n",
      "1546\n"
     ]
    }
   ],
   "source": [
    "print(len(join_courses.Code.unique()))\n",
    "print(len(max_courses_full.Code.unique()))"
   ]
  },
  {
   "cell_type": "code",
   "execution_count": 115,
   "metadata": {},
   "outputs": [
    {
     "name": "stdout",
     "output_type": "stream",
     "text": [
      "14/226\n"
     ]
    }
   ],
   "source": [
    "# Number of baseline edges we would drop after removing the courses from Max that are not in Kshitij's courses (i.e. after the join)\n",
    "count = 0\n",
    "for row in baseline_edges.values:\n",
    "    if row[0] not in join_courses.Code.values or row[1] not in join_courses.Code.values:\n",
    "        count += 1\n",
    "print(str(count) + \"/\" + str(baseline_edges.shape[0]))"
   ]
  },
  {
   "cell_type": "code",
   "execution_count": 117,
   "metadata": {},
   "outputs": [
    {
     "name": "stdout",
     "output_type": "stream",
     "text": [
      "3276/5828\n"
     ]
    }
   ],
   "source": [
    "# Number of k's edges we would keep\n",
    "count = 0\n",
    "for row in edges_ksh.values:\n",
    "    if row[0] in join_courses.SubjectID.values and row[1] in join_courses.values:\n",
    "        count += 1\n",
    "print(str(count) + \"/\" + str(edges_ksh.shape[0]))"
   ]
  },
  {
   "cell_type": "code",
   "execution_count": 138,
   "metadata": {},
   "outputs": [
    {
     "data": {
      "text/plain": [
       "891"
      ]
     },
     "execution_count": 138,
     "metadata": {},
     "output_type": "execute_result"
    }
   ],
   "source": [
    "thres = 0.5\n",
    "edges_ksh[(edges_ksh.cor1 >= thres) | (edges_ksh.cor1 <= -thres) | (edges_ksh.cor2 >= thres) | (edges_ksh.cor2 <= -thres)].shape[0]"
   ]
  },
  {
   "cell_type": "code",
   "execution_count": null,
   "metadata": {},
   "outputs": [],
   "source": []
  }
 ],
 "metadata": {
  "kernelspec": {
   "display_name": "Python 3",
   "language": "python",
   "name": "python3"
  },
  "language_info": {
   "codemirror_mode": {
    "name": "ipython",
    "version": 3
   },
   "file_extension": ".py",
   "mimetype": "text/x-python",
   "name": "python",
   "nbconvert_exporter": "python",
   "pygments_lexer": "ipython3",
   "version": "3.5.2"
  }
 },
 "nbformat": 4,
 "nbformat_minor": 2
}
